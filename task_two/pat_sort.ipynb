{
 "cells": [
  {
   "cell_type": "code",
   "execution_count": 1,
   "metadata": {},
   "outputs": [],
   "source": [
    "import os\n",
    "from pyspark import SparkContext\n",
    "from pyspark.sql import SparkSession\n",
    "\n",
    "os.environ[\"PYSPARK_PYTHON\"]=\"python3\"\n",
    "os.environ[\"PYSPARK_DRIVER_PYTHON\"]=\"python3\"\n",
    "os.environ['SPARK_HOME'] = \"/home/mayfly/workstation/env/spark\""
   ]
  },
  {
   "cell_type": "code",
   "execution_count": 2,
   "metadata": {},
   "outputs": [],
   "source": [
    "file_path = \"file:///home/mayfly/workstation/mycode/spark_study/pat_sort.txt\"\n",
    "# 创建sparkcontext对象\n",
    "sc = SparkContext(appName=\"pat_sort\", master=\"local\")\n",
    "# 加载文件\n",
    "mrdd = sc.textFile(file_path)"
   ]
  },
  {
   "cell_type": "code",
   "execution_count": 3,
   "metadata": {},
   "outputs": [],
   "source": [
    "# 根据第一行获取数据信息，第二行获取最高分信息\n",
    "# mrdd = mrdd.zipWithIndex()\n",
    "data_info, score_info = mrdd.collect()[:2]\n",
    "data_info = data_info.split(\" \")\n",
    "score_info = score_info.split(\" \")\n",
    "man_num = int(data_info[0])\n",
    "type_num = sc.broadcast(int(data_info[1]))   # 将种类数广播出去\n",
    "data_num = int(data_info[2])"
   ]
  },
  {
   "cell_type": "code",
   "execution_count": 4,
   "metadata": {},
   "outputs": [
    {
     "name": "stdout",
     "output_type": "stream",
     "text": [
      "[('00002 2', ['00002', '2', '12']), ('00007 4', ['00007', '4', '17']), ('00005 1', ['00005', '1', '19']), ('00007 2', ['00007', '2', '25']), ('00005 1', ['00005', '1', '20']), ('00002 2', ['00002', '2', '2']), ('00005 1', ['00005', '1', '15']), ('00001 1', ['00001', '1', '18']), ('00004 3', ['00004', '3', '25']), ('00002 2', ['00002', '2', '25']), ('00005 3', ['00005', '3', '22']), ('00006 4', ['00006', '4', '-1']), ('00001 2', ['00001', '2', '18']), ('00002 1', ['00002', '1', '20']), ('00004 1', ['00004', '1', '15']), ('00002 4', ['00002', '4', '18']), ('00001 3', ['00001', '3', '4']), ('00001 4', ['00001', '4', '2']), ('00005 2', ['00005', '2', '-1']), ('00004 2', ['00004', '2', '0'])]\n"
     ]
    }
   ],
   "source": [
    "# 过滤掉开头的两行，并按照\"id problem_id\":\"score\"划分数据\n",
    "mrdd = mrdd.zipWithIndex().filter(lambda x:x[1]>1).map(lambda x:(\" \".join(x[0].split(\" \")[:2]), x[0].split(\" \")))\n",
    "print(mrdd.collect())"
   ]
  },
  {
   "cell_type": "code",
   "execution_count": 5,
   "metadata": {},
   "outputs": [
    {
     "name": "stdout",
     "output_type": "stream",
     "text": [
      "[('00002 2', ['00002', '2', '25']), ('00007 4', ['00007', '4', '17']), ('00005 1', ['00005', '1', '20']), ('00007 2', ['00007', '2', '25']), ('00001 1', ['00001', '1', '18']), ('00004 3', ['00004', '3', '25']), ('00005 3', ['00005', '3', '22']), ('00006 4', ['00006', '4', '-1']), ('00001 2', ['00001', '2', '18']), ('00002 1', ['00002', '1', '20']), ('00004 1', ['00004', '1', '15']), ('00002 4', ['00002', '4', '18']), ('00001 3', ['00001', '3', '4']), ('00001 4', ['00001', '4', '2']), ('00005 2', ['00005', '2', '-1']), ('00004 2', ['00004', '2', '0'])]\n"
     ]
    },
    {
     "data": {
      "text/plain": [
       "PythonRDD[7] at collect at <ipython-input-5-99342f6ab0a3>:3"
      ]
     },
     "execution_count": 5,
     "metadata": {},
     "output_type": "execute_result"
    }
   ],
   "source": [
    "# 多次提交取最佳成绩\n",
    "mrdd = mrdd.reduceByKey(lambda x,y:x[2]>=y[2] and x or y)\n",
    "print(mrdd.collect())\n",
    "mrdd.cache()"
   ]
  },
  {
   "cell_type": "code",
   "execution_count": 6,
   "metadata": {},
   "outputs": [
    {
     "name": "stdout",
     "output_type": "stream",
     "text": [
      "[('00001', ['00001', '1', '18']), ('00001', ['00001', '2', '18']), ('00001', ['00001', '3', '4']), ('00001', ['00001', '4', '2']), ('00002', ['00002', '2', '25']), ('00002', ['00002', '1', '20']), ('00002', ['00002', '4', '18']), ('00004', ['00004', '3', '25']), ('00004', ['00004', '1', '15']), ('00004', ['00004', '2', '0']), ('00005', ['00005', '1', '20']), ('00005', ['00005', '3', '22']), ('00005', ['00005', '2', '-1']), ('00006', ['00006', '4', '-1']), ('00007', ['00007', '4', '17']), ('00007', ['00007', '2', '25'])]\n",
      "[('00001', ['00001', '1,2,3,4', '18,18,4,2']), ('00002', ['00002', '2,1,4', '25,20,18']), ('00004', ['00004', '3,1,2', '25,15,0']), ('00005', ['00005', '1,3,2', '20,22,-1']), ('00006', ['00006', '4', '-1']), ('00007', ['00007', '4,2', '17,25'])]\n"
     ]
    }
   ],
   "source": [
    "# 将每个人的分数合并在一起\n",
    "score_rdd = mrdd.map(lambda x:(x[1][0], x[1])).sortByKey()\n",
    "print(score_rdd.collect())\n",
    "score_rdd = score_rdd.reduceByKey(lambda x, y:[x[0], \",\".join([x[1], y[1]]), \",\".join([x[2], y[2]])])\n",
    "# score_rdd = score_rdd.reduceByKey(lambda x, y:[x[0], str(int(x[2])+int(y[2]))])\n",
    "print(score_rdd.collect())\n",
    "# 将RDD持久化到内存中，避免重复计算\n"
   ]
  },
  {
   "cell_type": "code",
   "execution_count": 7,
   "metadata": {},
   "outputs": [
    {
     "name": "stdout",
     "output_type": "stream",
     "text": [
      "[('00002', ['3', '00002', '63', '20 25 - 18']), ('00005', ['2', '00005', '42', '20 - 22 -']), ('00007', ['2', '00007', '42', '- 25 - 17']), ('00001', ['4', '00001', '42', '18 18 4 2']), ('00004', ['3', '00004', '40', '15 0 25 -'])]\n"
     ]
    }
   ],
   "source": [
    "# 计算总分并对得分按照score,solved num,id的优先级排序，由于spark的默认排序方式稳定，所以分三次排序\n",
    "def cul_sum_score(x):\n",
    "    print(x)\n",
    "    score_list = [\"-\" for i in range(type_num.value)]\n",
    "    sum_score = 0\n",
    "    type_id = x[1].split(\",\")\n",
    "    man_score = x[2].split(\",\")\n",
    "    solved_num = 0\n",
    "    for index, t in enumerate(type_id):\n",
    "        if man_score[index]==\"-1\":\n",
    "            continue\n",
    "        solved_num += 1\n",
    "        score_list[int(t)-1] = man_score[index]\n",
    "        sum_score += int(man_score[index])\n",
    "    if sum_score>0:\n",
    "        return [str(solved_num), x[0], str(sum_score), \" \".join(score_list)]\n",
    "score_rdd = score_rdd.map(lambda x:(x[0], cul_sum_score(x[1]))).filter(lambda x:x[1] is not None).sortBy(lambda x:x[1][1], ascending=True).sortBy(lambda x:x[1][0], ascending=True).sortBy(lambda x:x[1][2], ascending=False)\n",
    "print(score_rdd.collect())"
   ]
  },
  {
   "cell_type": "code",
   "execution_count": 8,
   "metadata": {},
   "outputs": [
    {
     "name": "stdout",
     "output_type": "stream",
     "text": [
      "1 00002 63 20 25 - 18\n",
      "2 00005 42 20 - 22 -\n",
      "2 00007 42 - 25 - 17\n",
      "2 00001 42 18 18 4 2\n",
      "5 00004 40 15 0 25 -\n"
     ]
    }
   ],
   "source": [
    "# 根据排序结果生成序列号(生成index:rdd对)\n",
    "ran_rdd = score_rdd.zipWithIndex().map(lambda x:(x[1], x[0][1]))\n",
    "# 根据成绩分组\n",
    "ran_rdd = ran_rdd.groupBy(lambda x:x[1][2]).collect()\n",
    "# print(trdd)\n",
    "# 输出排序结果，每一组的排名按照本组内的最小排名计算\n",
    "flag = \"-\"\n",
    "rem_index=-1\n",
    "for index, t in enumerate(ran_rdd):\n",
    "    for tt in t[1]:\n",
    "        if flag == tt[1][2]:\n",
    "            print(\"{} {}\".format(rem_index, \" \".join(tt[1][1:])))\n",
    "        else:\n",
    "            flag = tt[1][2]\n",
    "            rem_index = tt[0]+1\n",
    "            print(\"{} {}\".format(rem_index, \" \".join(tt[1][1:])))"
   ]
  },
  {
   "cell_type": "code",
   "execution_count": null,
   "metadata": {},
   "outputs": [],
   "source": []
  }
 ],
 "metadata": {
  "kernelspec": {
   "display_name": "Python 3",
   "language": "python",
   "name": "python3"
  },
  "language_info": {
   "codemirror_mode": {
    "name": "ipython",
    "version": 3
   },
   "file_extension": ".py",
   "mimetype": "text/x-python",
   "name": "python",
   "nbconvert_exporter": "python",
   "pygments_lexer": "ipython3",
   "version": "3.6.7"
  }
 },
 "nbformat": 4,
 "nbformat_minor": 2
}
