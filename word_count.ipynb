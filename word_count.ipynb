{
 "cells": [
  {
   "cell_type": "code",
   "execution_count": 1,
   "metadata": {},
   "outputs": [],
   "source": [
    "# 首先生成文本文件\n",
    "import random\n",
    "# 当前工作目录绝对路径，必须是绝对路径，否则生成的spark读取路径有问题\n",
    "work_path = \"/home/mayfly/workstation/mycode/spark_study/\""
   ]
  },
  {
   "cell_type": "code",
   "execution_count": 2,
   "metadata": {},
   "outputs": [],
   "source": [
    "# 共100个词，随机生成空格和换行符\n",
    "file_path = work_path + \"word_count.txt\"   \n",
    "with open(file_path, 'w') as f:\n",
    "    for i in range(100):\n",
    "        word_len = random.randint(3, 10)\n",
    "        tword = \"\"\n",
    "        for j in range(word_len):\n",
    "            tword += \"a\"\n",
    "        f.write(tword)\n",
    "        if random.randint(0, 10) >=5:\n",
    "            f.write(\" \")\n",
    "        else:\n",
    "            f.write(\"\\n\")"
   ]
  },
  {
   "cell_type": "code",
   "execution_count": 3,
   "metadata": {},
   "outputs": [],
   "source": [
    "import os\n",
    "from pyspark import SparkContext\n",
    "from pyspark.sql import SparkSession\n",
    "\n",
    "os.environ[\"PYSPARK_PYTHON\"]=\"python3\"\n",
    "os.environ[\"PYSPARK_DRIVER_PYTHON\"]=\"python3\"\n",
    "os.environ['SPARK_HOME'] = \"/home/mayfly/workstation/env/spark\""
   ]
  },
  {
   "cell_type": "code",
   "execution_count": 4,
   "metadata": {},
   "outputs": [],
   "source": [
    "file_path = \"file://\" + file_path"
   ]
  },
  {
   "cell_type": "code",
   "execution_count": 5,
   "metadata": {},
   "outputs": [
    {
     "name": "stdout",
     "output_type": "stream",
     "text": [
      "file line num:46\n"
     ]
    }
   ],
   "source": [
    "# 创建sparkcontext对象\n",
    "sc = SparkContext(appName=\"word_count\", master=\"local\")\n",
    "# 加载文件，文件按行读取所以直接统计出有多少行\n",
    "mrdd = sc.textFile(file_path)\n",
    "print(\"file line num:{}\".format(mrdd.count()))"
   ]
  },
  {
   "cell_type": "code",
   "execution_count": 6,
   "metadata": {},
   "outputs": [
    {
     "name": "stdout",
     "output_type": "stream",
     "text": [
      "word num:100\n"
     ]
    }
   ],
   "source": [
    "# 执行flatMap将每一行切分的结果混合在一起\n",
    "all_word = mrdd.flatMap(lambda x:x.split(\" \"))\n",
    "print(\"word num:{}\".format(all_word.count()))"
   ]
  },
  {
   "cell_type": "code",
   "execution_count": null,
   "metadata": {},
   "outputs": [],
   "source": []
  }
 ],
 "metadata": {
  "kernelspec": {
   "display_name": "Python 3",
   "language": "python",
   "name": "python3"
  },
  "language_info": {
   "codemirror_mode": {
    "name": "ipython",
    "version": 3
   },
   "file_extension": ".py",
   "mimetype": "text/x-python",
   "name": "python",
   "nbconvert_exporter": "python",
   "pygments_lexer": "ipython3",
   "version": "3.6.7"
  }
 },
 "nbformat": 4,
 "nbformat_minor": 2
}
